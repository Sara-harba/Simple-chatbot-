{
 "cells": [
  {
   "cell_type": "markdown",
   "metadata": {},
   "source": [
    "# Final Projet - BobbyBot"
   ]
  },
  {
   "cell_type": "code",
   "execution_count": 15,
   "metadata": {
    "colab": {
     "base_uri": "https://localhost:8080/"
    },
    "id": "pq6ZRG6WEpuX",
    "outputId": "8e914ded-c9de-4df4-e315-ce8fb820787c"
   },
   "outputs": [
    {
     "name": "stderr",
     "output_type": "stream",
     "text": [
      "[nltk_data] Downloading package stopwords to\n",
      "[nltk_data]     C:\\Users\\nohra\\AppData\\Roaming\\nltk_data...\n",
      "[nltk_data]   Package stopwords is already up-to-date!\n",
      "[nltk_data] Downloading package punkt to\n",
      "[nltk_data]     C:\\Users\\nohra\\AppData\\Roaming\\nltk_data...\n",
      "[nltk_data]   Package punkt is already up-to-date!\n"
     ]
    }
   ],
   "source": [
    "import pandas as pd\n",
    "import numpy as np\n",
    "import string ,re , random\n",
    "import nltk\n",
    "from nltk import word_tokenize\n",
    "from nltk.corpus import stopwords\n",
    "import warnings\n",
    "import speech_recognition as sr\n",
    "from sklearn.feature_extraction.text import TfidfVectorizer\n",
    "from sklearn.metrics.pairwise import cosine_similarity\n",
    "import playsound\n",
    "import os\n",
    "import random\n",
    "from gtts import gTTS\n",
    "import pyttsx3\n",
    "import pyaudio\n",
    "import time\n",
    "import random\n",
    "import gensim\n",
    "import spacy\n",
    "from spacy.matcher import Matcher\n",
    "\n",
    "from spacy import displacy \n",
    "from pprint import pprint\n",
    "\n",
    "nlp = spacy.load('en_core_web_sm')\n",
    "nltk.download('stopwords')\n",
    "nltk.download('punkt')\n",
    "warnings.filterwarnings('ignore')\n",
    "porter = nltk.PorterStemmer()\n",
    "stop_words = stopwords.words('english')"
   ]
  },
  {
   "cell_type": "code",
   "execution_count": 2,
   "metadata": {},
   "outputs": [],
   "source": [
    "df = pd.read_csv('tennis.txt', delimiter = \"\\t\", names =['text'])"
   ]
  },
  {
   "cell_type": "code",
   "execution_count": 3,
   "metadata": {
    "colab": {
     "base_uri": "https://localhost:8080/",
     "height": 204
    },
    "id": "709m3erYEpua",
    "outputId": "575a0e63-110b-436a-9562-7a6acfb3b5bb",
    "scrolled": true
   },
   "outputs": [
    {
     "data": {
      "text/html": [
       "<div>\n",
       "<style scoped>\n",
       "    .dataframe tbody tr th:only-of-type {\n",
       "        vertical-align: middle;\n",
       "    }\n",
       "\n",
       "    .dataframe tbody tr th {\n",
       "        vertical-align: top;\n",
       "    }\n",
       "\n",
       "    .dataframe thead th {\n",
       "        text-align: right;\n",
       "    }\n",
       "</style>\n",
       "<table border=\"1\" class=\"dataframe\">\n",
       "  <thead>\n",
       "    <tr style=\"text-align: right;\">\n",
       "      <th></th>\n",
       "      <th>text</th>\n",
       "    </tr>\n",
       "  </thead>\n",
       "  <tbody>\n",
       "    <tr>\n",
       "      <th>0</th>\n",
       "      <td>Predecessors</td>\n",
       "    </tr>\n",
       "    <tr>\n",
       "      <th>1</th>\n",
       "      <td>Jeu de paume in the 17th century</td>\n",
       "    </tr>\n",
       "    <tr>\n",
       "      <th>2</th>\n",
       "      <td>Historians believe that the game's ancient ori...</td>\n",
       "    </tr>\n",
       "    <tr>\n",
       "      <th>3</th>\n",
       "      <td>It was not until the 16th century that rackets...</td>\n",
       "    </tr>\n",
       "    <tr>\n",
       "      <th>4</th>\n",
       "      <td>An epitaph in St Michael's Church, Coventry, w...</td>\n",
       "    </tr>\n",
       "  </tbody>\n",
       "</table>\n",
       "</div>"
      ],
      "text/plain": [
       "                                                text\n",
       "0                                       Predecessors\n",
       "1                   Jeu de paume in the 17th century\n",
       "2  Historians believe that the game's ancient ori...\n",
       "3  It was not until the 16th century that rackets...\n",
       "4  An epitaph in St Michael's Church, Coventry, w..."
      ]
     },
     "execution_count": 3,
     "metadata": {},
     "output_type": "execute_result"
    }
   ],
   "source": [
    "df.head()"
   ]
  },
  {
   "cell_type": "markdown",
   "metadata": {
    "id": "a8cirfvlEpub"
   },
   "source": [
    "## Preprocessing"
   ]
  },
  {
   "cell_type": "markdown",
   "metadata": {},
   "source": [
    "In order to work with the data, we have cleaned it from all URLs, stemmed the words and removed stopwords"
   ]
  },
  {
   "cell_type": "code",
   "execution_count": 4,
   "metadata": {
    "colab": {
     "base_uri": "https://localhost:8080/",
     "height": 204
    },
    "id": "uKM6A0CbEpuc",
    "outputId": "73bc61f6-acd3-41e9-cfd0-025a5ee298be",
    "scrolled": true
   },
   "outputs": [
    {
     "data": {
      "text/html": [
       "<div>\n",
       "<style scoped>\n",
       "    .dataframe tbody tr th:only-of-type {\n",
       "        vertical-align: middle;\n",
       "    }\n",
       "\n",
       "    .dataframe tbody tr th {\n",
       "        vertical-align: top;\n",
       "    }\n",
       "\n",
       "    .dataframe thead th {\n",
       "        text-align: right;\n",
       "    }\n",
       "</style>\n",
       "<table border=\"1\" class=\"dataframe\">\n",
       "  <thead>\n",
       "    <tr style=\"text-align: right;\">\n",
       "      <th></th>\n",
       "      <th>text</th>\n",
       "      <th>cleaned_text</th>\n",
       "    </tr>\n",
       "  </thead>\n",
       "  <tbody>\n",
       "    <tr>\n",
       "      <th>0</th>\n",
       "      <td>Predecessors</td>\n",
       "      <td>[predecessor]</td>\n",
       "    </tr>\n",
       "    <tr>\n",
       "      <th>1</th>\n",
       "      <td>Jeu de paume in the 17th century</td>\n",
       "      <td>[jeu, de, paum, 17th, centuri]</td>\n",
       "    </tr>\n",
       "    <tr>\n",
       "      <th>2</th>\n",
       "      <td>Historians believe that the game's ancient ori...</td>\n",
       "      <td>[historian, believ, game, ancient, origin, lay...</td>\n",
       "    </tr>\n",
       "    <tr>\n",
       "      <th>3</th>\n",
       "      <td>It was not until the 16th century that rackets...</td>\n",
       "      <td>[It, 16th, centuri, racket, came, use, game, b...</td>\n",
       "    </tr>\n",
       "    <tr>\n",
       "      <th>4</th>\n",
       "      <td>An epitaph in St Michael's Church, Coventry, w...</td>\n",
       "      <td>[An, epitaph, St, michael, church, coventri, w...</td>\n",
       "    </tr>\n",
       "  </tbody>\n",
       "</table>\n",
       "</div>"
      ],
      "text/plain": [
       "                                                text  \\\n",
       "0                                       Predecessors   \n",
       "1                   Jeu de paume in the 17th century   \n",
       "2  Historians believe that the game's ancient ori...   \n",
       "3  It was not until the 16th century that rackets...   \n",
       "4  An epitaph in St Michael's Church, Coventry, w...   \n",
       "\n",
       "                                        cleaned_text  \n",
       "0                                      [predecessor]  \n",
       "1                     [jeu, de, paum, 17th, centuri]  \n",
       "2  [historian, believ, game, ancient, origin, lay...  \n",
       "3  [It, 16th, centuri, racket, came, use, game, b...  \n",
       "4  [An, epitaph, St, michael, church, coventri, w...  "
      ]
     },
     "execution_count": 4,
     "metadata": {},
     "output_type": "execute_result"
    }
   ],
   "source": [
    "def cleaning_URLs(text):\n",
    "    return re.sub('((www.[^s]+)|(https?://[^s]+))',' ', text)\n",
    "def Stemming_tweets(tweet):\n",
    "    return [porter.stem(w) for w in tweet]\n",
    "def cleaning_stopwords(text):\n",
    "    return\" \".join(word for word in str(text).split() if word not in stop_words)\n",
    "\n",
    "df['cleaned_text'] = df['text'].str.replace(r'[^0-9a-zA-Z]+',' ')\n",
    "df['cleaned_text'] = df['cleaned_text'].apply(lambda msg: cleaning_URLs(msg))\n",
    "df['cleaned_text'] = df['cleaned_text'].apply(lambda tw: cleaning_stopwords(tw))\n",
    "df['cleaned_text'] = df['cleaned_text'].apply(lambda x: word_tokenize(x))\n",
    "df['cleaned_text'] = df['cleaned_text'].apply(lambda tw: Stemming_tweets(tw))\n",
    "\n",
    "df.head()"
   ]
  },
  {
   "cell_type": "code",
   "execution_count": 6,
   "metadata": {
    "id": "pI2lcymBzUV-"
   },
   "outputs": [],
   "source": [
    "#here we have combined Module 2 and 3 \n",
    "#introducing our lists for the user's greetings and the bot reply\n",
    "#we also defined the function for greeting between user and bot \n",
    "\n",
    "my_greetings = ['hi', 'hi there', 'hey', 'hello', 'hello bobby bot','hello Bobby bot']\n",
    "bot_greetings = ['Heyy', 'what\\'s up bro!', 'Helloz, Nice to see you Again', 'Hello Dear, enjoy your session']\n",
    "\n",
    "def greeting(question):\n",
    "    if question in my_greetings:\n",
    "        response = random.choice(bot_greetings)\n",
    "    else:\n",
    "        response = 'I am sorry, I do not understand what you are asking me.'\n",
    "    return response"
   ]
  },
  {
   "cell_type": "code",
   "execution_count": 7,
   "metadata": {
    "id": "fh_GFIN-w7Wa"
   },
   "outputs": [],
   "source": [
    "#converted the cleaned tokens into text\n",
    "\n",
    "text = []\n",
    "\n",
    "for word in df['cleaned_text']:\n",
    "    sent = \" \".join(word)\n",
    "    text.append(sent)"
   ]
  },
  {
   "cell_type": "code",
   "execution_count": 8,
   "metadata": {
    "id": "tF_tp6Ccw7ZB"
   },
   "outputs": [],
   "source": [
    "#defined the response function to our question which would find the similarity between the keywords of the question\n",
    "#and the tennis text\n",
    "\n",
    "tv = TfidfVectorizer()\n",
    "\n",
    "def response(question):\n",
    "    question_vector = tv.fit_transform([question])\n",
    "    answer_vectors = tv.transform(text)\n",
    "    similarity = cosine_similarity(question_vector,answer_vectors)\n",
    "    index = similarity.argsort()[0][-1]\n",
    "    flattened_similarity = similarity.flatten()\n",
    "    flattened_similarity.sort()\n",
    "    value = flattened_similarity[-1]\n",
    "    if (value == 0):\n",
    "        response =  \"I am sorry, I do not understand what you are asking me\"\n",
    "    else:\n",
    "        response = df['text'][index]\n",
    "    return response"
   ]
  },
  {
   "cell_type": "code",
   "execution_count": 9,
   "metadata": {
    "colab": {
     "base_uri": "https://localhost:8080/",
     "height": 103
    },
    "id": "b0V85XpjYSDM",
    "outputId": "196c67d1-2e25-485a-800d-ab333349db66"
   },
   "outputs": [
    {
     "data": {
      "text/plain": [
       "'In Tennis: A Cultural History, Heiner Gillmeister reveals that on 8 December 1874, British army officer Walter Clopton Wingfield wrote to Harry Gem, commenting that he (Wingfield) had been experimenting with his version of lawn tennis “for a year and a half”.[14] In December 1873, Wingfield designed and patented a game which he called sphairistikè (Greek: σφαιριστική, meaning \"ball-playing\"), and was soon known simply as \"sticky\" – for the amusement of guests at a garden party on his friend\\'s estate of Nantclwyd Hall, in Llanelidan, Wales.[15] According to R. D. C. Evans, turfgrass agronomist, \"Sports historians all agree that [Wingfield] deserves much of the credit for the development of modern tennis.\"[9][16] According to Honor Godfrey, museum curator at Wimbledon, Wingfield \"popularized this game enormously. He produced a boxed set which included a net, poles, rackets, balls for playing the game – and most importantly you had his rules. He was absolutely terrific at marketing and he sent his game all over the world. He had very good connections with the clergy, the law profession, and the aristocracy and he sent thousands of sets out in the first year or so, in 1874.\"[17] The world\\'s oldest annual tennis tournament took place at Leamington Lawn Tennis Club in Birmingham in 1874.[18] This was three years before the All England Lawn Tennis and Croquet Club would hold its first championships at Wimbledon, in 1877. The first Championships culminated in a significant debate on how to standardise the rules.[17]'"
      ]
     },
     "execution_count": 9,
     "metadata": {},
     "output_type": "execute_result"
    }
   ],
   "source": [
    "#example for the result provided by the fucntion\n",
    "\n",
    "response('origins of the modern tennis?')"
   ]
  },
  {
   "cell_type": "code",
   "execution_count": 10,
   "metadata": {},
   "outputs": [
    {
     "data": {
      "text/plain": [
       "'Tennis also became popular in France, where the French Championships dates to 1891 although until 1925 it was open only to tennis players who were members of French clubs.[25] Thus, Wimbledon, the US Open, the French Open, and the Australian Open (dating to 1905) became and have remained the most prestigious events in tennis.[26][27] Together these four events are called the Majors or Slams (a term borrowed from bridge rather than baseball).[28]'"
      ]
     },
     "execution_count": 10,
     "metadata": {},
     "output_type": "execute_result"
    }
   ],
   "source": [
    "response('Wimbledon')"
   ]
  },
  {
   "cell_type": "code",
   "execution_count": 11,
   "metadata": {
    "colab": {
     "base_uri": "https://localhost:8080/",
     "height": 578
    },
    "id": "3HmQyndWXX6y",
    "outputId": "21cb1139-ebca-4746-c8ce-be4b5c04696b"
   },
   "outputs": [
    {
     "name": "stdout",
     "output_type": "stream",
     "text": [
      "BobbyBot: My name is BobbyBot. I will answer your queries about Tennis. If you want to exit, type exit! \n",
      "exit\n",
      "BobbyBot: Bye! take care!\n"
     ]
    }
   ],
   "source": [
    "#this code would combine both the input and the output of the user and the bot\n",
    "#flag would allow the code to run continuously until it is interrupted\n",
    "\n",
    "flag = True\n",
    "\n",
    "print(\"BobbyBot: My name is BobbyBot. I will answer your queries about Tennis. If you want to exit, type exit! \")\n",
    "\n",
    "while (flag == True):\n",
    "    question = input()\n",
    "    question = question.lower()\n",
    "    \n",
    "    if (question != 'exit'):\n",
    "        if (question == 'thanks' or question == 'thank you'):\n",
    "            flag = False\n",
    "            print(\"BobbyBot: You are welcome!\")\n",
    "        else:\n",
    "            if (question in my_greetings):\n",
    "                print(\"BobbyBot: \"+ greeting(question))\n",
    "            else:\n",
    "                print(\"BobbyBot: \",end=\"\")\n",
    "                print(response(question))\n",
    "    else:\n",
    "        flag = False\n",
    "        print(\"BobbyBot: Bye! take care!\")"
   ]
  }
 ],
 "metadata": {
  "colab": {
   "collapsed_sections": [],
   "name": "final project.ipynb",
   "provenance": []
  },
  "kernelspec": {
   "display_name": "Python 3",
   "language": "python",
   "name": "python3"
  },
  "language_info": {
   "codemirror_mode": {
    "name": "ipython",
    "version": 3
   },
   "file_extension": ".py",
   "mimetype": "text/x-python",
   "name": "python",
   "nbconvert_exporter": "python",
   "pygments_lexer": "ipython3",
   "version": "3.8.5"
  }
 },
 "nbformat": 4,
 "nbformat_minor": 1
}
